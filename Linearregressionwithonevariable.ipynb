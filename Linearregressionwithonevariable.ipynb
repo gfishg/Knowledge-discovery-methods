{
 "cells": [
  {
   "cell_type": "markdown",
   "metadata": {},
   "source": [
    "## Przygotowanie\n",
    "\n",
    "Przed rozpoczęciem pracy z notatnikiem proszę zmienić jego nazwę dodając na początku numer albumu, imię i nazwisko.\n",
    "{nr_albumu}\\_{imię}\\_{nazwisko}\\_{nazwa}\n",
    "\n",
    "Po wykonaniu wszystkich zadań proszę przesłać wypełniony notatnik przez platformę ELF za pomocą formularza \"Prześlij projekt\" w odpowiedniej sekcji. "
   ]
  },
  {
   "cell_type": "markdown",
   "metadata": {},
   "source": [
    "## Regresja liniowa prosta\n",
    "\n",
    "Regresja liniowa prosta, to szczególny przypadek regresji liniowej, w którym zmienną objaśnaną przewidujemy za pomocą jednej zmiennej objaśniającej. Zadanie będzie polegało na wyznaczeniu funkcji regresji opisującej zależność zarobków od lat doświadczenia. \n",
    "\n",
    "Zbiór danych do tego zadania, to Salary.csv. Znajduje się w katalogu datasets.\n",
    "W zbiorze danych znajduje się 35 obserwacji. Każdy wpis jest osobną obserwacją. W zbiorze znajdują się 3 kolumny: YearsExperience, Age i Salary. W pierwszym zadaniu należy wykorzystać YearsExperience i Salary, pomijając Age."
   ]
  },
  {
   "cell_type": "markdown",
   "metadata": {},
   "source": [
    "### Zadanie 1\n",
    "\n",
    "Wczytaj dane z pliku Salary.csv, a następnie stwórz wykres przedstawiający obserwacje."
   ]
  },
  {
   "cell_type": "code",
   "execution_count": 3,
   "metadata": {},
   "outputs": [
    {
     "name": "stdout",
     "output_type": "stream",
     "text": [
      "<class 'numpy.ndarray'>\n",
      "[[ 39343]\n",
      " [ 46205]\n",
      " [ 37731]\n",
      " [ 43525]\n",
      " [ 39891]\n",
      " [ 56642]\n",
      " [ 60150]\n",
      " [ 54445]\n",
      " [ 62444]\n",
      " [ 57189]\n",
      " [ 63218]\n",
      " [ 55794]\n",
      " [ 56957]\n",
      " [ 57081]\n",
      " [ 61111]\n",
      " [ 67938]\n",
      " [ 66029]\n",
      " [ 83088]\n",
      " [ 81363]\n",
      " [ 93940]\n",
      " [ 91738]\n",
      " [ 98273]\n",
      " [101302]\n",
      " [113812]\n",
      " [109431]\n",
      " [105582]\n",
      " [116969]\n",
      " [112635]\n",
      " [122391]\n",
      " [121872]\n",
      " [127345]\n",
      " [126756]\n",
      " [128765]\n",
      " [135675]\n",
      " [139465]]\n"
     ]
    },
    {
     "data": {
      "image/png": "[encoded data removed]",
      "text/plain": [
       "<Figure size 432x288 with 1 Axes>"
      ]
     },
     "metadata": {
      "needs_background": "light"
     },
     "output_type": "display_data"
    }
   ],
   "source": [
    "import numpy as np\n",
    "import matplotlib.pyplot as plt  # To visualize\n",
    "import pandas as pd  # To read data\n",
    "from sklearn.linear_model import LinearRegression\n",
    "\n",
    "df = pd.read_csv('C:/Users/Gabriela/Desktop/studia PK/MOW/datasets/Salary.csv', sep=',')\n",
    "x = df['YearsExperience'].values.reshape(df['YearsExperience'].shape[0], 1)\n",
    "y = df['Salary'].values.reshape(df['Salary'].shape[0], 1)\n",
    "x2 = df['Age'].values.reshape(df['Age'].shape[0], 1)\n",
    "\n",
    "print(type(y))\n",
    "print(y)\n",
    "linear_regressor = LinearRegression()\n",
    "linear_regressor.fit(x, y)\n",
    "y_pred = linear_regressor.predict(x)\n",
    "\n",
    "plt.scatter(x, y)\n",
    "plt.xlabel(\"Years Experience\")\n",
    "plt.ylabel(\"Salary\")\n",
    "#plt.plot(x, y_pred, color='red')\n",
    "plt.show()\n",
    "\n",
    "#df[::]"
   ]
  },
  {
   "cell_type": "markdown",
   "metadata": {},
   "source": [
    "### Zadanie 2\n",
    "\n",
    "Implementacja algorytmu regresji liniowej prostej.\n",
    "\n",
    "Żeby dobrze zrozumieć zapis matematyczny, który początkowo może sprawiać problemy, przejdziemy po kolei po elementach składowych algorytmu. Następnie złączymy elementy w całość.\n",
    "\n",
    "Wzór na regresję liniową w naszym przypadku będzie wyglądał następująco:\n",
    "\n",
    "\\begin{equation}\n",
    "f(x^{(i)}) = \\beta_{0} + \\beta_{1}x_1 = \\beta_{0} + \\beta_{1}  YearsExperience\n",
    "\\end{equation}\n",
    "\n",
    "Przypomnijmy, że zapis $x^{(i)}$ oznacza wektor dla $i$-tej obserwacji. W naszym przypadku ten wektor będzie zawierał tylko $1$ wartość dla cechy $YearsExperience$.\n",
    "\n",
    "\n",
    "_Uwaga: W różnych źródłach algorytm regresji liniowej ma różne zapisy. Czasem podawane są wzory w postaci z sumą, czasem w postaci macierzowej. Jest to spowodowane tym, że algorytm można zaimplementować na te dwa sposoby. Łatwiejszym i bardziej intuicyjnym podejściem jest podejście z sumą, która bezpośrednio sugeruje wykokrzystanie pętli w celu iteracji po obserwacjach/cechach. Implementacja z wykorzystaniem macierzy jest zwykle krótksza i \"bardziej elegancka\", ale również bardziej wydajna. Aby dobrze zrozumieć działanie algorytmu, najlepiej jest zaimplementować obie wersje i porównać je ze sobą._\n"
   ]
  },
  {
   "cell_type": "markdown",
   "metadata": {},
   "source": [
    "#### 2.1 Inicjalizacja współczynników $\\beta$ regresji\n",
    "\n",
    "Pierwszym krokiem jest inicjalizacja współczynników regresji. W przypadku regresji liniowej prostej mamy dwa współczynniki $\\beta_{0}$ i $\\beta_{1}$. Stwórz dwie zmienne będące współczynnikami regresji liniowej prostej i zainicjalizuj je losowymi wartościami z przedziału $(0,1)$.\n",
    "\n",
    "Dodatkowo stwórz zmienną *alpha*, która przyjmie wartość od $(0,1)$. Możesz ustawić ją ręcznie i sprawdzać jak różne wartości mają wpływ na regresję. "
   ]
  },
  {
   "cell_type": "code",
   "execution_count": 4,
   "metadata": {},
   "outputs": [
    {
     "name": "stdout",
     "output_type": "stream",
     "text": [
      "0.9979583729351904\n",
      "0.8501218457036879\n",
      "0.1538148958194827\n",
      "0.006\n"
     ]
    }
   ],
   "source": [
    "import random\n",
    "\n",
    "b_2 = random.uniform(0.0, 1.0)\n",
    "b_1 = random.uniform(0.0, 1.0)\n",
    "b_0 = random.uniform(0, 1)\n",
    "\n",
    "alpha = 0.006\n",
    "\n",
    "print(b_2)\n",
    "print(b_1)\n",
    "print(b_0)\n",
    "print(alpha)"
   ]
  },
  {
   "cell_type": "markdown",
   "metadata": {},
   "source": [
    "#### 2.2 Obliczenie predykcji\n",
    "\n",
    "Kolejnym krokiem jest obliczenie wartości funkcji regresji dla wszystkich obserwacji w zbiorze danych. Jest to po prostu wstawienie kolejnych wartości pod wzrór regresji.\n",
    "\n",
    "\\begin{equation}\n",
    "f(x) = \\beta_{0} + \\beta_{1}x_1\n",
    "\\end{equation}\n",
    "\n",
    "Można zrobić to z wykorzystaniem operacji na macierzach (wektorach), albo z wykorzystaniem klasycznej iteracji. "
   ]
  },
  {
   "cell_type": "code",
   "execution_count": 5,
   "metadata": {},
   "outputs": [
    {
     "name": "stdout",
     "output_type": "stream",
     "text": [
      "[1.08894893]\n",
      "[1.2589733]\n",
      "[1.42899766]\n",
      "[1.85405859]\n",
      "[2.02408296]\n",
      "[2.61916825]\n",
      "[2.70418043]\n",
      "[2.8742048]\n",
      "[2.8742048]\n",
      "[3.29926572]\n",
      "[3.46929009]\n",
      "[3.55430228]\n",
      "[3.55430228]\n",
      "[3.63931446]\n",
      "[3.9793632]\n",
      "[4.31941194]\n",
      "[4.48943631]\n",
      "[4.65946068]\n",
      "[5.16953379]\n",
      "[5.25454597]\n",
      "[5.93464345]\n",
      "[6.18968]\n",
      "[6.86977748]\n",
      "[7.12481403]\n",
      "[7.54987495]\n",
      "[7.80491151]\n",
      "[8.22997243]\n",
      "[8.31498461]\n",
      "[8.91006991]\n",
      "[9.08009428]\n",
      "[9.67517957]\n",
      "[9.93021612]\n",
      "[10.6103136]\n",
      "[11.12038671]\n",
      "[11.63045981]\n"
     ]
    }
   ],
   "source": [
    "#df = pd.read_csv('C:/Users/Gabriela/Desktop/datasets/Salary.csv', sep=',')\n",
    "tab = df['YearsExperience'].values.reshape(df['YearsExperience'].shape[0], 1)\n",
    "#print(tab)\n",
    "f_x = []\n",
    "fx = []\n",
    "for x in tab:\n",
    "    f_x = b_0 + b_1*x\n",
    "    print(f_x)\n",
    "    fx.append(f_x)\n",
    "\n",
    "#f_x = np.zeros(shape=(len(x),1))\n",
    "#f_x = b_0 + b_1*x\n"
   ]
  },
  {
   "cell_type": "markdown",
   "metadata": {},
   "source": [
    "#### 2.3 Obliczenie błędu\n",
    "\n",
    "Obliczenie wartości błędu regresji nie jest konieczne do aktualizacji wag, jednak jest to bardzo cenna informacja czy nasz algorytm działa poprawnie. Wartość błędu nie może rosnąć w kolejnych epokach.\n",
    "\n",
    "Błąd należy obliczyć zgodnie ze wzorem:\n",
    "\n",
    "\\begin{equation}\n",
    "    SSR = \\frac{1}{2m} \\sum_{i=1}^{m}(f(x^{(i)}) - y^{(i)})^2\n",
    "\\end{equation}"
   ]
  },
  {
   "cell_type": "code",
   "execution_count": 7,
   "metadata": {},
   "outputs": [
    {
     "name": "stdout",
     "output_type": "stream",
     "text": [
      "[4.92656829e+12]\n"
     ]
    }
   ],
   "source": [
    "tab_y_rzecz = []\n",
    "tab_y_rzecz = df['Salary'].values.reshape(df['Salary'].shape[0], 1)\n",
    "\n",
    "licznik = 0\n",
    "suma = 0\n",
    "\n",
    "    \n",
    "while licznik < len(tab):\n",
    "    #print(tab_y_rzecz[licznik])\n",
    "    #print(fx[licznik])\n",
    "    suma += (fx[licznik]-tab_y_rzecz[licznik])**2\n",
    "    #print (suma)\n",
    "    licznik+=1\n",
    "#print (suma)\n",
    "\n",
    "ssr = (1/2*len(tab))*suma\n",
    "print (ssr)\n"
   ]
  },
  {
   "cell_type": "markdown",
   "metadata": {},
   "source": [
    "#### 2.4 Obliczenie gradientu \n",
    "\n",
    "Żeby obliczyć gradient, należy obliczyć pochodne cząstkowe względem parametrów $\\beta_{0}$ i $\\beta_{1}$.\n",
    "\n",
    "\\begin{equation}\n",
    "    \\frac{\\partial SSR}{\\partial \\beta_{0}} = \\frac{1}{m} \\sum^{m}_{i=1} (f(x^{(i)}) - y^{(i)})\n",
    "\\end{equation}\n",
    "\n",
    "\\begin{equation}\n",
    "    \\frac{\\partial SSR}{\\partial \\beta_{1}} = \\frac{1}{m} \\sum^{m}_{i=1} (f(x^{(i)}) - y^{(i)})x_{1}^{(i)}\n",
    "\\end{equation}\n",
    "\n",
    "Tutaj ponownie jak wcześniej można wykorzystać operacje na macierzach, lub iteracyjnie obliczyć sumę."
   ]
  },
  {
   "cell_type": "code",
   "execution_count": 6,
   "metadata": {},
   "outputs": [
    {
     "name": "stdout",
     "output_type": "stream",
     "text": [
      "[-2935894.39951704]\n",
      "[-83882.69712906]\n",
      "[-22414683.54347772]\n",
      "[-640419.52981365]\n"
     ]
    }
   ],
   "source": [
    "suma2 = 0\n",
    "licz2 = 0\n",
    "    \n",
    "while licz2 < len(tab):\n",
    "    #print(tab_y_rzecz[licznik])\n",
    "    #print(fx[licznik])\n",
    "    suma2 += (fx[licz2]-tab_y_rzecz[licz2])\n",
    "    #print (suma2)\n",
    "    licz2 += 1\n",
    "print (suma2)\n",
    "\n",
    "pochb_0 = 1/len(tab)*suma2\n",
    "\n",
    "print (pochb_0)\n",
    "\n",
    "suma3 = 0\n",
    "licz3 = 0\n",
    "\n",
    "while licz3 < len(tab):\n",
    "    suma3 += (fx[licz3]-tab_y_rzecz[licz3])*tab[licz3]\n",
    "    #print(tab[licz3])\n",
    "    licz3+=1\n",
    "print (suma3)\n",
    "\n",
    "pochb_1 = 1/len(tab)*suma3\n",
    "print (pochb_1)"
   ]
  },
  {
   "cell_type": "markdown",
   "metadata": {},
   "source": [
    "####  2.5 Aktualizacja współczynników regresji (wag)\n",
    "\n",
    "Po obliczeniu pochodnych cząstkowych należy obliczyć nowe wartości dla współczynników regresji.\n",
    "\n",
    "\n",
    "\\begin{equation}\n",
    "    \\beta_{0} = \\beta_{0} - \\alpha \\frac{\\partial SSR}{\\partial \\beta_{0}} \n",
    "\\end{equation}\n",
    "\n",
    "\\begin{equation}\n",
    "    \\beta_{1} = \\beta_{1} - \\alpha \\frac{\\partial SSR}{\\partial \\beta_{1}} \n",
    "\\end{equation}"
   ]
  },
  {
   "cell_type": "code",
   "execution_count": 7,
   "metadata": {},
   "outputs": [
    {
     "name": "stdout",
     "output_type": "stream",
     "text": [
      "[504.04035684]\n",
      "[3843.20204217]\n"
     ]
    }
   ],
   "source": [
    "newb_0 = (b_0 - (alpha*pochb_0))\n",
    "newb_1 = (b_1 - (alpha*pochb_1))\n",
    "\n",
    "print(newb_0)\n",
    "print(newb_1)"
   ]
  },
  {
   "cell_type": "markdown",
   "metadata": {},
   "source": [
    "#### 2.6 Finalna wersja algorytmu\n",
    "\n",
    "Powyższe działania, to wszystkie elementy potrzebne do stworzenia algorytmu regresji liniowej prostej. Jeden cykl takich operacji nazywany jest **epoką**. Idea obliczania współczynników regresji z wykorzystaniem gradientu polega na iteracyjnym aktualizowaniu współczynników do momentu, aż błąd przestanie znacznie się zmieniać. Można również ustawić jakaś stałą ilość epok. W każdej epoce wykorzystuje się ponownie ten sam zestaw danych.\n",
    "\n",
    "Skoro wiadomo już jakie pojedyncze etapy należy wykonać, żeby obliczyć regresję liniową prostą, przyszedł czas na zebranie wszystkiego w jednym miejscu.\n",
    "\n",
    "Proszę zaimplementować funkcję `learn_and_fit(x, y)`, która dla danych wejściowych będzie zwracać współczynniki regresji w każdej z epok. Dodatkowo proszę zwracać również błąd regresji w każdej epoce. Funkcja może być zaimplementowana w dowolny sposób. Może bezpośrednio zawierać wszystkie instrukcje, może korzystać z innych funkcji pomocniczych albo może korzystać z klasy reprezentującą regresję liniową prostą. \n",
    "\n",
    "Na końcu notebooka znajduje się test jednostkowy, który musi przechodzić przy prawidłowej implementacji algorytmu."
   ]
  },
  {
   "cell_type": "code",
   "execution_count": 8,
   "metadata": {
    "scrolled": true
   },
   "outputs": [],
   "source": [
    "import matplotlib.animation as animation\n",
    "'''\n",
    "input:\n",
    "x - wartości zmiennej objaśniającej YearsExperience dla wszystkich obserwacji\n",
    "y - wartości zmiennej objaśnianej Salary dla wszystkich obserwacji\n",
    "\n",
    "output:\n",
    "b0: [] - lista z współczynnikami beta_0 w każdej z epok\n",
    "b1: [] - lista z współczynnikami beta_1 w każdej z epok\n",
    "error: [] - lista z błędem w każdej epoce\n",
    "'''\n",
    "def animate(y):\n",
    "    line.set_ydata(np.sin(x + i / 50))  # update the data.\n",
    "    return line,\n",
    "\n",
    "def learn_and_fit(x, y):\n",
    "    \n",
    "    error_lim = 0.00001\n",
    "    b_1 = random.uniform(0.0, 1.0)\n",
    "    b_0 = random.uniform(0, 1)\n",
    "\n",
    "    alpha = 0.005\n",
    "    b0 = []\n",
    "    b1 = []\n",
    "    error = []\n",
    "    if_finish = False\n",
    "    f_x = []\n",
    "    fx = []\n",
    "    tab = df['YearsExperience'].values.reshape(df['YearsExperience'].shape[0], 1)\n",
    "\n",
    "    while(if_finish == False):\n",
    "        for x in tab:\n",
    "            f_x = b_0 + b_1*x\n",
    "            fx.append(f_x)\n",
    "        \n",
    "        tab_y_rzecz = []\n",
    "        tab_y_rzecz = df['Salary'].values.reshape(df['Salary'].shape[0], 1)\n",
    "\n",
    "        licznik = 0\n",
    "        suma = 0\n",
    "\n",
    "    \n",
    "        while licznik < len(tab):\n",
    "            suma += (fx[licznik]-tab_y_rzecz[licznik])**2\n",
    "            licznik+=1\n",
    "            \n",
    "        ssr = (1/2*len(tab))*suma\n",
    "        \n",
    "        suma2 = 0\n",
    "        licz2 = 0\n",
    "    \n",
    "        while licz2 < len(tab):\n",
    "    \n",
    "            suma2 += (fx[licz2]-tab_y_rzecz[licz2])\n",
    "            licz2 += 1\n",
    "            \n",
    "        pochb_0 = 1/len(tab)*suma2\n",
    "        \n",
    "        suma3 = 0\n",
    "        licz3 = 0\n",
    "\n",
    "        while licz3 < len(tab):\n",
    "            suma3 += (fx[licz3]-tab_y_rzecz[licz3])*tab[licz3]\n",
    "    \n",
    "            licz3+=1\n",
    "\n",
    "\n",
    "        pochb_1 = 1/len(tab)*suma3\n",
    "        \n",
    "        b0.append(b_0)\n",
    "        b1.append(b_1)\n",
    "        error.append(ssr)\n",
    "        \n",
    "        b_0 = (b_0 - (alpha*pochb_0))\n",
    "        b_1 = (b_1 - (alpha*pochb_1))\n",
    "        \n",
    "        \n",
    "        if ((len(error) > 2) and (abs(error[len(error) -1] - error[len(error) - 2]) < error_lim)):\n",
    "            if_finish = True\n",
    "            \n",
    "        \n",
    "    return b0, b1, error"
   ]
  },
  {
   "cell_type": "markdown",
   "metadata": {},
   "source": [
    "### Zadanie 3\n",
    "\n",
    "Do wykresu stworzonego w zadaniu 1 dodaj prostą regresji. Pokaż w formie animacji, jak zmieniała się funkcja regresji na przestrzeni epok."
   ]
  },
  {
   "cell_type": "code",
   "execution_count": 9,
   "metadata": {
    "scrolled": true
   },
   "outputs": [
    {
     "data": {
      "image/png": "[encoded data removed]",
      "text/plain": [
       "<Figure size 432x288 with 1 Axes>"
      ]
     },
     "metadata": {
      "needs_background": "light"
     },
     "output_type": "display_data"
    }
   ],
   "source": [
    "import matplotlib.pyplot as plt\n",
    "from matplotlib.animation import FuncAnimation\n",
    "from IPython.display import Image\n",
    "\n",
    "b0, b1, error = learn_and_fit(x,y)\n",
    "\n",
    "df = pd.read_csv('C:/Users/Gabriela/Desktop/studia PK/MOW/datasets/Salary.csv', sep=',')\n",
    "x = df['YearsExperience'].values.reshape(df['YearsExperience'].shape[0], 1)\n",
    "y = df['Salary'].values.reshape(df['Salary'].shape[0], 1)\n",
    "linear_regressor = LinearRegression()\n",
    "linear_regressor.fit(x, y)\n",
    "y_pred = linear_regressor.predict(x)\n",
    "\n",
    "plt.scatter(x, y)\n",
    "plt.xlabel(\"Years Experience\")\n",
    "plt.ylabel(\"Salary\")\n",
    "plt.plot(x, y_pred, color='red')\n",
    "plt.show()\n"
   ]
  },
  {
   "cell_type": "markdown",
   "metadata": {},
   "source": [
    "### Testy jednostkowe"
   ]
  },
  {
   "cell_type": "code",
   "execution_count": 10,
   "metadata": {},
   "outputs": [
    {
     "name": "stderr",
     "output_type": "stream",
     "text": [
      "test_learn_and_fit (__main__.SimpleLinearRegressionTest) ... ok\n",
      "\n",
      "----------------------------------------------------------------------\n",
      "Ran 1 test in 0.005s\n",
      "\n",
      "OK\n"
     ]
    },
    {
     "data": {
      "text/plain": [
       "<unittest.main.TestProgram at 0x2c1dd28fee0>"
      ]
     },
     "execution_count": 10,
     "metadata": {},
     "output_type": "execute_result"
    }
   ],
   "source": [
    "import unittest\n",
    "import pandas as pd\n",
    "\n",
    "class SimpleLinearRegressionTest(unittest.TestCase):\n",
    "    \n",
    "    def test_learn_and_fit(self):\n",
    "        df = pd.read_csv('C:/Users/Gabriela/Desktop/studia PK/MOW/datasets/Salary.csv', sep=',')\n",
    "        x = df['YearsExperience'].values.reshape(df['YearsExperience'].shape[0], 1)\n",
    "        y = df['Salary'].values.reshape(df['Salary'].shape[0], 1)\n",
    "        \n",
    "        b0, b1, error = learn_and_fit(x, y)\n",
    "        \n",
    "        self.assertTrue(len(b0) > 1)\n",
    "        self.assertTrue(len(b1) > 1)\n",
    "        self.assertTrue(len(b0) == len(b1))\n",
    "        self.assertTrue(all(i >= j for i, j in zip(error, error[1:]))) #Sprawdzenie, czy błędy nie rosną\n",
    "        \n",
    "unittest.main(argv=[''], verbosity=2, exit=False)"
   ]
  }
 ],
 "metadata": {
  "kernelspec": {
   "display_name": "Python 3",
   "language": "python",
   "name": "python3"
  },
  "language_info": {
   "codemirror_mode": {
    "name": "ipython",
    "version": 3
   },
   "file_extension": ".py",
   "mimetype": "text/x-python",
   "name": "python",
   "nbconvert_exporter": "python",
   "pygments_lexer": "ipython3",
   "version": "3.8.3"
  }
 },
 "nbformat": 4,
 "nbformat_minor": 4
}
