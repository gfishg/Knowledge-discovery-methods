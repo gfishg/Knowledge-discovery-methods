{
 "cells": [
  {
   "cell_type": "markdown",
   "metadata": {},
   "source": [
    "## Przygotowanie\n",
    "\n",
    "Przed rozpoczęciem pracy z notatnikiem proszę zmienić jego nazwę dodając na początku numer albumu, imię i nazwisko.\n",
    "{nr_albumu}\\_{imię}\\_{nazwisko}\\_{nazwa}\n",
    "\n",
    "Po wykonaniu wszystkich zadań proszę przesłać wypełniony notatnik przez platformę ELF za pomocą formularza \"Prześlij projekt\" w odpowiedniej sekcji. "
   ]
  },
  {
   "attachments": {
    "deer.png": {
     "image/png": "[encoded data removed]"
    }
   },
   "cell_type": "markdown",
   "metadata": {},
   "source": [
    "## Regresja wielomianowa\n",
    "\n",
    "Regresja liniowa działa dobrze w sytuacji, gdy zmienna, której wartość chemy przewidzieć (zmienna objaśniana/zależna) jest liniowo zależna od zmiennych za pomocą których chcemy ją obliczyć (zmiennych objaśniających/niezależnych). Jak nietrudno się domyślić, takie założenie jest mocno ograniczające i w realnych problemach rzadko będzie ono spełniane. Pojawia się zatem pytanie, co zrobić, gdy wiemy, że dane nie spełniają założenia o liniowej zależności. Istnieje wiele algorytmów rozwiązujących takie problemy. Jednym z nich jest regresja wielomianowa.\n",
    "\n",
    "Regresja wielomianowa polega na zmianie funkcji regresji tak, aby była to funkcja wielomianowa. Przykładowo, dla jednej zmiennej niezależnej można stworzyć model, którego funkcja regresji będzie wielomianem czwartego stopnia: \n",
    "\n",
    "\\begin{equation}\n",
    "f(x) = \\beta_{0} + \\beta_{1}x_1 + \\beta_{2}x_1^2 + \\beta_{3}x_1^3 + \\beta_{4}x_1^4\n",
    "\\end{equation}\n",
    "\n",
    "Pozwala to na stworzenie dowolnego kształtu funkcji, który będzie dopasowany do danych. Zwiekszanie krotności wielomianu spowoduje dokładniejsze dopasowanie do danych, jednak rodzi też pewne niebezpieczeństwa. Może okazać się, że taki model będzie zbyt mocno dopasowany do próbek uczących i nie będzie w stanie dokonywać poprawnych predykcji dla nowych, nieznanych próbek. Takie zjawisko nazywa się przeuczeniem modelu i istnieją różne metody do jego rozpoznania i przeciwdziałania. Nie jest to jednak przedmiotem tego notatnika. \n",
    "\n",
    "Cały proces trenowania i testowania modelu wygląda jak w przypadku regresji liniowej. Różnica polega jedynie na zmianie funkcji regresji.\n",
    "\n",
    "Zbiór danych do tego zadania znajduje się w pliku \"jaws.csv\" i przedstawia zależność długości kości szczękowej jelenia od jego wieku. \n",
    "\n",
    "![deer.png](attachment:deer.png)\n",
    "\n",
    "Na powyższym wykresie widać, że zależność na pewno nie jest liniowa. Szczęka zwierzęcia rośnie do pewnego wieku i później jej długość jest stała przez resztę życia. Spróbujemy rozwiązać ten problem za pomocą regresji wielomianowej."
   ]
  },
  {
   "cell_type": "markdown",
   "metadata": {},
   "source": [
    "### Zadanie 1\n",
    "Aby stworzyć funkcję wielomianową konieczne jest dodanie nowych cech do istniejącego zestawu danych.  \n",
    "Stwórz funkcję, która przetransformuje pojedynczą cechę do wektora cech, w którym kolejne elementy, to kolejne potęgi danej cechy. \n",
    "\n",
    "Przykład:  \n",
    "transform_to_polynomial_feature(x, 5) -> $[x^1, x^2, x^3, x^4, x^5]$  \n",
    "transform_to_polynomial_feature(x, 3) -> $[x^1, x^2, x^3]$"
   ]
  },
  {
   "cell_type": "code",
   "execution_count": 18,
   "metadata": {},
   "outputs": [],
   "source": [
    "import numpy as np\n",
    "import pandas as pd\n",
    "from sklearn.preprocessing import StandardScaler\n",
    "\n",
    "df = pd.read_csv('C:/Users/Gabriela/Desktop/studia PK/MOW/datasets/jaws.csv', sep=',')\n",
    "#print(df.head())\n",
    "df_sort = df.sort_values(by=['age'])\n",
    "x = df_sort['age'].values.reshape(df['age'].shape[0], 1)\n",
    "y = df_sort['bone'].values.reshape(df['bone'].shape[0], 1)\n",
    "\n",
    "'''\n",
    "a = np.array(df_sort)\n",
    "print(a)\n",
    "\n",
    "srednia = np.mean(a,axis=0)\n",
    "#print(srednia)\n",
    "odch_st = np.std(a,axis=0)\n",
    "#print(odch_st)\n",
    "\n",
    "scaler = StandardScaler()\n",
    "scaled_data = scaler.fit_transform(a)\n",
    "k = scaler.transform(df_sort)\n",
    "#print(k)\n",
    "\n",
    "odch_st_po_standaryzacji = np.std(k, axis=0)\n",
    "#print(odch_st_po_standaryzacji)\n",
    "\n",
    "k=k.astype(int)\n",
    "srednia_po_standaryzacji = np.mean(k, axis=0)\n",
    "#print(srednia_po_standaryzacji)\n",
    "'''\n",
    "\n",
    "\n",
    "'''\n",
    "input:\n",
    "x - wartość zmiennej niezależnej\n",
    "n - stopień wielomianu\n",
    "\n",
    "output:\n",
    "out: [] - lista o długości n z kolejnymi potęgami wejściowej cechy x\n",
    "'''\n",
    "\n",
    "\n",
    "def transform_to_polynomial_feature(x, n):\n",
    "    a = np.array(x)\n",
    "    scaler = StandardScaler()\n",
    "    scaled_data = scaler.fit_transform(a)\n",
    "    result = [scaled_data ** i for i in range(1, n+1)]\n",
    "    return result\n",
    "\n",
    "\n",
    "#print(x)\n",
    "proba = transform_to_polynomial_feature(x, 4)\n",
    "#print(proba)"
   ]
  },
  {
   "cell_type": "markdown",
   "metadata": {},
   "source": [
    "### Zadanie 2\n",
    "\n",
    "Zmodyfikuj swój kod z zadania z regresją liniową tak, aby dla zestawu danych x z jedną zmienną niezależną tworzył nieliniową funkcję regresji. Przetestuj rozwiązanie dla różnych wariantów stopnia wielomianu.\n",
    "Pamiętaj, że konieczne dodanie dodatkowych cech do oryginalnego zbioru danych, które będą kolejnymi potęgami zmiennej niezależnej - wiek zwierzęcia. "
   ]
  },
  {
   "cell_type": "code",
   "execution_count": 19,
   "metadata": {},
   "outputs": [],
   "source": [
    "import random\n",
    "import matplotlib.pyplot as plt\n",
    "\n",
    "df = pd.read_csv('C:/Users/Gabriela/Desktop/studia PK/MOW/datasets/jaws.csv', sep=',')\n",
    "#print(df.head())\n",
    "df_sort = df.sort_values(by=['age'])\n",
    "x = df_sort['age'].values.reshape(df['age'].shape[0], 1)\n",
    "y = df_sort['bone'].values.reshape(df['bone'].shape[0], 1)\n",
    "\n",
    "def transform_to_polynomial_feature(x, n):\n",
    "    a = np.array(x)\n",
    "    scaler = StandardScaler()\n",
    "    scaled_data = scaler.fit_transform(a)\n",
    "    result = [scaled_data ** i for i in range(1, n+1)]\n",
    "    return result\n",
    "\n",
    "\n",
    "def initializationBCoefficient(lenX):\n",
    "    betas = [[] for i in range(lenX + 1)]\n",
    "    i = 0\n",
    "    for beta in betas:\n",
    "        betas[i].append(random.uniform(0, 1))\n",
    "        i = i + 1\n",
    "\n",
    "    return betas\n",
    "\n",
    "def calculationPrediction(X, betas):\n",
    "    f_x = 0\n",
    "    lenbetas = len(betas)\n",
    "    for x, beta in zip(X, betas):\n",
    "        f_x += x * beta\n",
    "    f_x = f_x + betas[lenbetas - 1]\n",
    "\n",
    "    return f_x\n",
    "\n",
    "\n",
    "def ssrCalculation(f_x, y):\n",
    "    sumka = np.sum((f_x - y) ** 2)\n",
    "\n",
    "    ssr = (1 / (2 * len(y))) * sumka\n",
    "\n",
    "    return ssr\n",
    "\n",
    "\n",
    "def gradientCalculation(f_x, y, *X):\n",
    "    poch_betas = [[] for i in range(len(X) + 1)]\n",
    "    i = 0\n",
    "    for x in X:\n",
    "        poch_betas[i].append(np.sum((f_x - y) * x) / len(y))\n",
    "        i = i + 1\n",
    "\n",
    "    poch_betas[i].append(np.sum((f_x - y)) / len(y))\n",
    "\n",
    "    return poch_betas\n",
    "\n",
    "\n",
    "def learn_and_fit_multi(*X, y, n):\n",
    "    X = transform_to_polynomial_feature(*X, n)\n",
    "    betas = initializationBCoefficient(len(X))\n",
    "    #print(\"betas\")\n",
    "    #print(betas)\n",
    "    error = []\n",
    "    alpha = 0.01\n",
    "    epochNumber = 0\n",
    "\n",
    "    while (epochNumber < 30000):\n",
    "        f_x = calculationPrediction(X, betas=betas)\n",
    "        # print(f_x)\n",
    "\n",
    "        ssr = ssrCalculation(f_x, y)\n",
    "        # print(ssr)\n",
    "\n",
    "        poch_betas = gradientCalculation(f_x, y, *X)\n",
    "        # print(poch_betas)\n",
    "\n",
    "        betas = np.array(betas)\n",
    "        error.append(ssr)\n",
    "        poch_betas = np.array(poch_betas)\n",
    "\n",
    "\n",
    "        for i in range(len(X) + 1):\n",
    "            betas[i] = betas[i] - (alpha * poch_betas[i])\n",
    "\n",
    "        epochNumber += 1\n",
    "\n",
    "    return betas, error, X\n",
    "\n",
    "\n",
    "#betas, error, X = learn_and_fit_multi(x, y=y, n=2)\n",
    "\n",
    "betas1, error1, x1 = learn_and_fit_multi(x, y=y, n=1)\n",
    "\n",
    "betas4, error4, x4 = learn_and_fit_multi(x, y=y, n=4)\n",
    "\n",
    "betas5, error5, x5 = learn_and_fit_multi(x, y=y, n=5)\n",
    "\n",
    "\n"
   ]
  },
  {
   "cell_type": "markdown",
   "metadata": {},
   "source": [
    "### Zadanie 3\n",
    "\n",
    "Stwórz wykres na którym będą znajdować się dane ze zbioru _jaws.csv_ oraz funkcje regresji wielomianowej dla wielomianu pierwszego, czwartego i piątego stopnia. \n",
    "\n",
    "Opisz wykres. Jak zmienia się funkcja regresji wraz z dodawaniem kolejnych stopni wielomianu? Czy widzisz jakąś inną możliwą transformację funkcji regresji tak, żeby rozwiązała analizowany problem?"
   ]
  },
  {
   "cell_type": "code",
   "execution_count": 20,
   "metadata": {},
   "outputs": [
    {
     "data": {
      "image/png": "[encoded data removed]",
      "text/plain": [
       "<Figure size 432x288 with 1 Axes>"
      ]
     },
     "metadata": {
      "needs_background": "light"
     },
     "output_type": "display_data"
    }
   ],
   "source": [
    "import numpy as np\n",
    "\n",
    "\n",
    "plt.scatter(x, y)\n",
    "f_x1 = calculationPrediction(x1, betas=betas1)\n",
    "f_x4 = calculationPrediction(x4, betas=betas4)\n",
    "f_x5 = calculationPrediction(x5, betas=betas5)\n",
    "\n",
    "#print(f_x4)\n",
    "#print(x4)\n",
    "#print(betas4)\n",
    "plt.xlabel(\"wiek zwierzęcia\")\n",
    "plt.ylabel(\"długość kości szczękowej\")\n",
    "plt.title(\"Wykres zależności długości kości szczękowej od wieku zwierzęcia\")\n",
    "plt.plot(x, f_x4, 'c')\n",
    "plt.plot(x, f_x1, 'k')\n",
    "plt.plot(x, f_x5, 'm')\n",
    "plt.show()\n",
    "\n"
   ]
  },
  {
   "cell_type": "code",
   "execution_count": 21,
   "metadata": {},
   "outputs": [
    {
     "data": {
      "text/plain": [
       "'Na wykresie kolor czarny - pierwszy stopień wielomianu, kolor cyjanowy - czwaty stopień wielomianu, kolor fuksjowy - piąty stopień wielomianu'"
      ]
     },
     "execution_count": 21,
     "metadata": {},
     "output_type": "execute_result"
    }
   ],
   "source": [
    "\"Na wykresie kolor czarny - pierwszy stopień wielomianu, kolor cyjanowy - czwaty stopień wielomianu, kolor fuksjowy - piąty stopień wielomianu\""
   ]
  },
  {
   "cell_type": "code",
   "execution_count": 22,
   "metadata": {},
   "outputs": [
    {
     "data": {
      "text/plain": [
       "'Wykres funkcji regresji wraz ze wzrostem stopnia wielomianu z coraz większą dokładnością pokrywa oryginalne dane.'"
      ]
     },
     "execution_count": 22,
     "metadata": {},
     "output_type": "execute_result"
    }
   ],
   "source": [
    "\"Wykres funkcji regresji wraz ze wzrostem stopnia wielomianu z coraz większą dokładnością pokrywa oryginalne dane.\""
   ]
  },
  {
   "cell_type": "code",
   "execution_count": 23,
   "metadata": {},
   "outputs": [
    {
     "data": {
      "text/plain": [
       "'Wykresy czwartego i piątego stopnia są niemal identyczne, w odróżnieniu od wykresu stopnia pierwszego, który róźni się od pozostałych'"
      ]
     },
     "execution_count": 23,
     "metadata": {},
     "output_type": "execute_result"
    }
   ],
   "source": [
    "\"Wykresy czwartego i piątego stopnia są niemal identyczne, w odróżnieniu od wykresu stopnia pierwszego, który róźni się od pozostałych\""
   ]
  },
  {
   "cell_type": "code",
   "execution_count": null,
   "metadata": {},
   "outputs": [],
   "source": []
  }
 ],
 "metadata": {
  "kernelspec": {
   "display_name": "Python 3",
   "language": "python",
   "name": "python3"
  },
  "language_info": {
   "codemirror_mode": {
    "name": "ipython",
    "version": 3
   },
   "file_extension": ".py",
   "mimetype": "text/x-python",
   "name": "python",
   "nbconvert_exporter": "python",
   "pygments_lexer": "ipython3",
   "version": "3.8.3"
  }
 },
 "nbformat": 4,
 "nbformat_minor": 4
}
