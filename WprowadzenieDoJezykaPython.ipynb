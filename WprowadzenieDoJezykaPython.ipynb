{
 "cells": [
  {
   "cell_type": "markdown",
   "metadata": {},
   "source": [
    "## Wprowadzenie do języka Python"
   ]
  },
  {
   "cell_type": "markdown",
   "metadata": {},
   "source": [
    "1. Podstawowe typy danych.\n",
    "    * Stwórz i wypisz (funkcja print) zmienne zawierające następujące typy danych: **int, float, complex, string, boolean**.\n",
    "    * Czym różnią się **', \", '''** i **\"\"\"** w przypadku stringów?"
   ]
  },
  {
   "cell_type": "code",
   "execution_count": 126,
   "metadata": {},
   "outputs": [
    {
     "name": "stdout",
     "output_type": "stream",
     "text": [
      "5\n",
      "2.5\n",
      "1j\n",
      "informatyka\n",
      "True\n"
     ]
    }
   ],
   "source": [
    "a = 5\n",
    "print(a) \n",
    "b = 2.5\n",
    "print(b)\n",
    "c = complex(0,1)\n",
    "print(c)\n",
    "d = 'informatyka'\n",
    "print (d)\n",
    "e = True\n",
    "print(e)\n",
    "\n",
    "# Napisy (stringi) możemy podawac w cudzysłowach podwójnych lub pojedynczych apostrofach.\n",
    "# Kiedy chcemy użyć cytatu w naszej wypowiedzi, używamy apostrofów na zewnątrz tekstu, który chcemy wyświetlić, czyli 'Kasia odpowiedziała,\"podaj mi herbatę\"'\n",
    "# Kiedy chcemy użyć apostrofu w naszej wypowiedzi, stosujemy cudzysłów na zewnątrz tekstu, który chcemy wyświetlić, czyli \"Wczoraj czytałam wypowiedź Locke’a\"\n",
    "# Aby utworzyć tekst obejmujący wiele wierszy, ujmujemy go w \n",
    "#'''\n",
    "#potrójne pojedyncze \n",
    "#cudzysłowy\n",
    "#''' \n",
    "#lub \n",
    "#\"\"\"\n",
    "#potrójne podwójne \n",
    "#cudzysłowy\n",
    "#\"\"\""
   ]
  },
  {
   "cell_type": "markdown",
   "metadata": {},
   "source": [
    "2. Operatory arytmetyczne.\n",
    "    * Operatory arytmetyczne: **+, -, *, /, //, **, %**.  \n",
    "    * Wyjaśnij znaczenie powyższych operatorów arytmetycznych oraz wykonaj operacje arytmetyczne na dowolnych typach danych i wyświetl wynik.\n",
    "    "
   ]
  },
  {
   "cell_type": "code",
   "execution_count": 5,
   "metadata": {
    "scrolled": true
   },
   "outputs": [
    {
     "name": "stdout",
     "output_type": "stream",
     "text": [
      "7.2\n",
      "21\n",
      "2.5714285714285716\n",
      "2\n",
      "la la la la la \n",
      "4\n",
      "[15, 'Ania', 16]\n",
      "[15, 'Ania']\n",
      "()\n",
      "(1, 'a', 3)\n",
      "('a', 3)\n",
      "<class 'dict'>\n",
      "<class 'set'>\n",
      "{'e', 'a', 'y'}\n",
      "{'e', 'a'}\n",
      "{1: 'Anna', 5: 'Gosia', 10: 'Zosia'}\n",
      "{1: 'Anna', 5: 'Gosia'}\n"
     ]
    }
   ],
   "source": [
    "# + dodawanie\n",
    "a = 2 + 5.2\n",
    "print(a)\n",
    "# - odejmowanie\n",
    "b = 27 - 6\n",
    "print(b)\n",
    "# / dzielenie zmiennoprzecinkowe\n",
    "c = 18 / 7 \n",
    "print (c)\n",
    "# // dzielenie całkowite\n",
    "d = 18//7\n",
    "print (d)\n",
    "# * mnożenie\n",
    "e = 5 * \"la \"\n",
    "print(e)\n",
    "# % modulo (reszta z dzielenia)\n",
    "f = 18 % 7\n",
    "print (f)\n",
    "\n",
    "\n",
    "\n",
    "#zadanie 3\n",
    "\n",
    "#list\n",
    "#W listach przechowywane wartości mogą być różnych typów\n",
    "\n",
    "fruits = []\n",
    "fruits.append(15)\n",
    "fruits.append(\"Ania\")\n",
    "fruits.append(16)\n",
    "print(fruits)\n",
    "fruits.remove(16)\n",
    "print(fruits)\n",
    "\n",
    "#tuple\n",
    "#Krotka jest to specjalny rodzaj zmiennej, która pozwala na przechowywanie kilku wartości. Podobnie jak w listach wartości mogą być różnych typów. Jednak w przeciwieństwie do list wartości w krotce nie mogą być modyfikowane. Krotka jest niezmienna i nie ma metod dodawania, usuwania lub zmieniania elementów.\n",
    "\n",
    "tup = ()\n",
    "print(tup)\n",
    "tup2 = (1, 'a', 3)\n",
    "print(tup2)\n",
    "tup3 = ('a', 3)\n",
    "print(tup3)\n",
    "\n",
    "#set\n",
    "#Zbiór to zestaw nieuporządkowany i nieindeksowany. Brak zduplikowanych członków.\n",
    "\n",
    "zbior = {}\n",
    "print(type(zbior))\n",
    "\n",
    "zbior = set(zbior)\n",
    "print(type(zbior))\n",
    "\n",
    "zbior.add('a')\n",
    "zbior.add('e')\n",
    "zbior.add('y')\n",
    "print(zbior)\n",
    "zbior.remove('y')\n",
    "print(zbior)\n",
    "\n",
    "#dict \n",
    "#Słownik jest specjalnym rodzajem zbioru, który składa się z par klucz:wartość, przy czym klucze muszą mieć wartości unikalne w słowniku\n",
    "\n",
    "slownik = {}\n",
    "\n",
    "slownik[1] = \"Anna\"\n",
    "slownik[5] = \"Gosia\"\n",
    "slownik[10] = \"Zosia\"\n",
    "print(slownik)\n",
    "\n",
    "del slownik[10]\n",
    "print(slownik)\n"
   ]
  },
  {
   "cell_type": "markdown",
   "metadata": {},
   "source": [
    "2. Struktury danych. \n",
    "    * Struktury danych: **list, tuple, set, dict**.  \n",
    "    * Dla każdej struktury danych stwórz pustą strukturę, dodaj do niej 3 dowolne elementy, następnie usuń jeden.  \n",
    "    * Jakie są różnice w poszczególnych strukturach?"
   ]
  },
  {
   "cell_type": "raw",
   "metadata": {},
   "source": [
    "#list\n",
    "#W listach przechowywane wartości mogą być różnych typów\n",
    "\n",
    "fruits = []\n",
    "fruits.append(15)\n",
    "fruits.append(\"Ania\")\n",
    "fruits.append(16)\n",
    "print(fruits)\n",
    "fruits.remove(16)\n",
    "print(fruits)\n",
    "\n",
    "#tuple\n",
    "#Krotka jest to specjalny rodzaj zmiennej, która pozwala na przechowywanie kilku wartości. Podobnie jak w listach wartości mogą być różnych typów. Jednak w przeciwieństwie do list wartości w krotce nie mogą być modyfikowane. Krotka jest niezmienna i nie ma metod dodawania, usuwania lub zmieniania elementów.\n",
    "\n",
    "tup = ()\n",
    "print(tup)\n",
    "tup2 = (1, 'a', 3)\n",
    "print(tup2)\n",
    "tup3 = ('a', 3)\n",
    "print(tup3)\n",
    "\n",
    "#set\n",
    "#Zbiór to zestaw nieuporządkowany i nieindeksowany. Brak zduplikowanych członków.\n",
    "\n",
    "zbior = {}\n",
    "print(type(zbior))\n",
    "\n",
    "zbior = set()\n",
    "print(type(zbior))\n",
    "\n",
    "zbior.add('a')\n",
    "zbior.add('e')\n",
    "zbior.add('y')\n",
    "zbior.remove('y')\n",
    "\n",
    "#dict \n",
    "#Słownik jest specjalnym rodzajem zbioru, który składa się z par klucz:wartość, przy czym klucze muszą mieć wartości unikalne w słowniku\n",
    "\n",
    "slownik = {}\n",
    "\n",
    "slownik[1] = \"Anna\"\n",
    "slownik[5] = \"Gosia\"\n",
    "slownik[10] = \"Zosia\"\n",
    "print(slownik)\n",
    "\n",
    "del slownik[10]\n",
    "print(slownik)"
   ]
  },
  {
   "cell_type": "markdown",
   "metadata": {},
   "source": [
    "3. Podstawowa kontrola przepływu danych.  \n",
    "    * Zapisz dowolny warunek logiczny z wykorzystaniem instrukcji warunkowych if, elif i else.\n",
    "    * Wypisz liczby od 0 do 10 za pomocą pęli **for i while**\n",
    "    * Napisz kod, który przeiteruje po strukturze list, tak aby wypisać wszystkie elementy wraz z ich pozycjami:  \n",
    "    ```\n",
    "    list = ['element1', 'element2', 'element3']\n",
    "    element1 indeks1\n",
    "    element2 indeks2\n",
    "    element3 indeks3\n",
    "    ```  \n",
    "    Pomocne może być wykorzystanie funkcji **enumerate()**\n",
    "    * Napisz kod, który przeiteruje jednocześnie po dwóch listach i wypisze ich elementy. Zapoznaj się z funkcją **zip()**.  \n",
    "    Czy można przeiterować przez większą ilość struktur danych, niż 2?"
   ]
  },
  {
   "cell_type": "code",
   "execution_count": 162,
   "metadata": {},
   "outputs": [
    {
     "name": "stdout",
     "output_type": "stream",
     "text": [
      "Weź trzy cukierki\n",
      "petla for\n",
      "0\n",
      "1\n",
      "2\n",
      "3\n",
      "4\n",
      "5\n",
      "6\n",
      "7\n",
      "8\n",
      "9\n",
      "10\n",
      "petla while\n",
      "0\n",
      "1\n",
      "2\n",
      "3\n",
      "4\n",
      "5\n",
      "6\n",
      "7\n",
      "8\n",
      "9\n",
      "10\n",
      "enumerate\n",
      "element1 0\n",
      "element2 1\n",
      "element3 2\n",
      "Funkcja zip\n",
      "('Adam', 'Aniela') 0\n",
      "('Bartosz', 'Barbara') 1\n",
      "('Cezary', 'Czesława') 2\n"
     ]
    }
   ],
   "source": [
    "# MIEJSCE NA ODPOWIEDŹ\n",
    "#Warunek logiczny\n",
    "z = 112\n",
    "if (z < 10):\n",
    "    print(\"Weź jednego cukierka\")\n",
    "elif (z > 100):\n",
    "    print(\"Weź trzy cukierki\")\n",
    "else:\n",
    "    print(\"Weź dwa cukierki\")\n",
    "    \n",
    "#petla for\n",
    "print(\"petla for\")\n",
    "\n",
    "for x in range(11):\n",
    "    print(x)\n",
    "    \n",
    "#petla while\n",
    "print(\"petla while\")\n",
    "licznik = 0\n",
    "while licznik < 11:\n",
    "    print (licznik)\n",
    "    licznik +=1\n",
    "\n",
    "#elementy wraz z ich pozycjami\n",
    "print(\"enumerate\")\n",
    "list = ['element1', 'element2', 'element3']\n",
    "\n",
    "for count, item in enumerate(list):\n",
    "    print(item, count)\n",
    "    \n",
    "    \n",
    "# funkcja zip()\n",
    "print(\"Funkcja zip\")\n",
    "list1 = ['Adam', 'Bartosz', 'Cezary']\n",
    "list2 = ['Aniela', 'Barbara', 'Czesława']\n",
    "\n",
    "zipped = zip(list1, list2)\n",
    "for count, item in enumerate(zipped):\n",
    "    print(item, count)\n",
    "    \n",
    "#Można przeiterować przez większą ilość struktur danych, niż 2(Dorzucamy do zipa kolejną strukturę, np zip(list1, list2, list3))"
   ]
  },
  {
   "cell_type": "markdown",
   "metadata": {},
   "source": [
    "4. Comprehensions\n",
    "    * Stwórz listę zawierającą liczby o 0 do 20, następnie na jej podstawie stwórz listę liczb parzystych bez wykorzystania pętli. (List Comprehension)\n",
    "    * Stwórz słownik (dict), w którym kluczami będą kolejne liczby z zakresu od 0 do 20, a wartościami kwadrat wartości klucza. Nie korzystaj z pętli. (Dictionary Comprehension)\n",
    "    ```\n",
    "    {0: 0, 1: 1, 2: 4, 3: 9, ...}\n",
    "    ```"
   ]
  },
  {
   "cell_type": "code",
   "execution_count": 192,
   "metadata": {},
   "outputs": [
    {
     "name": "stdout",
     "output_type": "stream",
     "text": [
      "1*)\n",
      "[0, 1, 2, 3, 4, 5, 6, 7, 8, 9, 10, 11, 12, 13, 14, 15, 16, 17, 18, 19, 20]\n",
      "[0, 2, 4, 6, 8, 10, 12, 14, 16, 18, 20]\n",
      "2*)\n"
     ]
    },
    {
     "data": {
      "text/plain": [
       "{0: 0,\n",
       " 1: 1,\n",
       " 2: 4,\n",
       " 3: 9,\n",
       " 4: 16,\n",
       " 5: 25,\n",
       " 6: 36,\n",
       " 7: 49,\n",
       " 8: 64,\n",
       " 9: 81,\n",
       " 10: 100,\n",
       " 11: 121,\n",
       " 12: 144,\n",
       " 13: 169,\n",
       " 14: 196,\n",
       " 15: 225,\n",
       " 16: 256,\n",
       " 17: 289,\n",
       " 18: 324,\n",
       " 19: 361,\n",
       " 20: 400}"
      ]
     },
     "execution_count": 192,
     "metadata": {},
     "output_type": "execute_result"
    }
   ],
   "source": [
    "# MIEJSCE NA ODPOWIEDŹ\n",
    "print(\"1*)\")\n",
    "lista = [i for i in range(21)]\n",
    "print(lista)\n",
    "parzyste = [i for i in lista if ((i % 2) == 0)]\n",
    "print(parzyste)\n",
    "\n",
    "print(\"2*)\")\n",
    "#keys = [n for n in range(21)]\n",
    "#print(keys)\n",
    "#values = [i*i for i in lista]\n",
    "#print (value)\n",
    "\n",
    "dict(zip([n for n in range(21)], [i*i for i in keys]))"
   ]
  },
  {
   "cell_type": "markdown",
   "metadata": {},
   "source": [
    "5. Funkcje\n",
    "    * Napisz funkcje wykonujące operacje dodawania, odejmowania, mnożenia dla dwóch argumentów.\n",
    "    * Rozwiń funkcje, aby wykonywały operacje dla dowolnej ilości argumentów."
   ]
  },
  {
   "cell_type": "code",
   "execution_count": 203,
   "metadata": {},
   "outputs": [
    {
     "name": "stdout",
     "output_type": "stream",
     "text": [
      "-6\n"
     ]
    }
   ],
   "source": [
    "# MIEJSCE NA ODPOWIEDŹ\n",
    "#dodawanie\n",
    "def dodawanie(x, y, *reszta):\n",
    "    return x + y\n",
    "\n",
    "def odejmowanie(x, y, *reszta):\n",
    "    return x-y\n",
    "\n",
    "def mnozenie(x, y, *reszta):\n",
    "    return x*y\n",
    "\n",
    "#print(dodawanie(-8,2))\n",
    "#print(odejmowanie(-8,2))\n",
    "#print(mnozenie(-8,2))\n",
    "\n"
   ]
  },
  {
   "cell_type": "markdown",
   "metadata": {},
   "source": [
    "6. Obsługa plików\n",
    "    * Stwórz listę z liczbami od 1 do 20, następnie stwórz plik o nazwie \"plik.txt\", który w pierwszej lini będzie zawierał zdanie: \"Praca z plikiem.\", a w kolejnych liniach elementy z listy. Na końcu zamknij plik.\n",
    "    * Otwórz wcześniej stworzony plik i wypisz jego zawartość.\n",
    "    * Jakie są tryby otwierania pliku i co oznaczają?\n",
    "    * Czym różni się konstrukcja obsługi pliku ze słowem kluczowym `with`?\n",
    "    "
   ]
  },
  {
   "cell_type": "code",
   "execution_count": 212,
   "metadata": {},
   "outputs": [
    {
     "name": "stdout",
     "output_type": "stream",
     "text": [
      "Praca z plikiem\n",
      "0\n",
      "1\n",
      "2\n",
      "3\n",
      "4\n",
      "5\n",
      "6\n",
      "7\n",
      "8\n",
      "9\n",
      "10\n",
      "11\n",
      "12\n",
      "13\n",
      "14\n",
      "15\n",
      "16\n",
      "17\n",
      "18\n",
      "19\n",
      "20\n",
      "\n"
     ]
    }
   ],
   "source": [
    "# MIEJSCE NA ODPOWIEDŹ\n",
    "lista = []\n",
    "for x in range(21):\n",
    "    lista.append(x)\n",
    "\n",
    "#print(lista)\n",
    "\n",
    "plik = open('plik.txt', 'w')\n",
    "plik.write(\"Praca z plikiem\\n\")\n",
    "for i in lista:\n",
    "    plik.write(\"%s\\n\" % i)\n",
    "plik.close()\n",
    "\n",
    "plik2 = open('plik.txt', 'r').read()\n",
    "lines = plik2.split('\\n')\n",
    "for line in lines:\n",
    "    print (line)\n",
    "\n",
    "#Tryby otwarcia pliku\n",
    "#“r” – plik otwarty do odczytu (read)\n",
    "#“w” – plik otwarty do zapisu (write), przed zapisem zawartość pliku jest usuwana.\n",
    "#“a” – plik otwarty do zapisu, dodaje nową treść na końcu pliku, nie usuwa starej (append)\n",
    "\n",
    "#Alternatywna metoda obsługi plików ze słowem kluczowym with, nie wymaga dodatkowego zamykania pliku."
   ]
  },
  {
   "cell_type": "markdown",
   "metadata": {},
   "source": [
    "7. Klasy"
   ]
  }
 ],
 "metadata": {
  "kernelspec": {
   "display_name": "Python 3",
   "language": "python",
   "name": "python3"
  },
  "language_info": {
   "codemirror_mode": {
    "name": "ipython",
    "version": 3
   },
   "file_extension": ".py",
   "mimetype": "text/x-python",
   "name": "python",
   "nbconvert_exporter": "python",
   "pygments_lexer": "ipython3",
   "version": "3.8.3"
  }
 },
 "nbformat": 4,
 "nbformat_minor": 4
}
